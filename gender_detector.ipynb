{
 "cells": [
  {
   "cell_type": "code",
   "execution_count": 1,
   "metadata": {},
   "outputs": [],
   "source": [
    "from tensorflow.keras.preprocessing.image import img_to_array\n",
    "from tensorflow.keras.models import load_model\n",
    "from imutils import build_montages\n",
    "from imutils import paths\n",
    "import numpy as np\n",
    "import argparse\n",
    "import random\n",
    "import cv2"
   ]
  },
  {
   "cell_type": "code",
   "execution_count": 2,
   "metadata": {},
   "outputs": [],
   "source": [
    "model = load_model('final_model.model')\n",
    "face_clsfr = cv2.CascadeClassifier('haarcascade_frontalface_default.xml')\n",
    "\n",
    "labels_dict = {0:'MAN', 1:'WOMAN'}\n",
    "color_dict = {0:(255,0,0), 1:(0,0,255)}"
   ]
  },
  {
   "cell_type": "code",
   "execution_count": 3,
   "metadata": {},
   "outputs": [
    {
     "data": {
      "text/plain": [
       "'\\nsource = cv2.VideoCapture(0)\\n\\nwhile(True):\\n    ret, img = source.read()\\n    gray = cv2.cvtColor(img, cv2.COLOR_BGR2GRAY)\\n    faces = face_clsfr.detectMultiScale(gray, 1.3, 5)\\n    imageCopy = img.copy()\\n    \\n    for x,y,w,h in faces:\\n        crop = img[y:y+h, x:x+w]\\n        imageCrop = imageCopy[y:y+h, x:x+w]\\n        resized = cv2.resize(imageCrop,(224,224))\\n        normalized = resized.astype(\"float\")/255.0\\n        image = img_to_array(normalized)\\n        reshaped = np.expand_dims(image, axis=0)\\n        result = model.predict(reshaped)\\n        if result<0.5:\\n            label  = 0\\n        else:\\n            label = 1\\n        cv2.rectangle(img, (x,y),(x+w, y+h), color_dict[label], 2)\\n        cv2.rectangle(img, (x,y-40),(x+w, y), color_dict[label], -1)\\n        cv2.putText(img, labels_dict[label], (x,y-10), cv2.FONT_HERSHEY_SIMPLEX,0.8,(255,255,255), 2)\\n        \\n    cv2.imshow(\"LIVE\",img)\\n    key = cv2.waitKey(1)\\n    \\n    if(key ==27):\\n        break\\n    cv2.destroyAllWindows()\\n    source.release()\\n    '"
      ]
     },
     "execution_count": 3,
     "metadata": {},
     "output_type": "execute_result"
    }
   ],
   "source": [
    "'''\n",
    "source = cv2.VideoCapture(0)\n",
    "\n",
    "while(True):\n",
    "    ret, img = source.read()\n",
    "    gray = cv2.cvtColor(img, cv2.COLOR_BGR2GRAY)\n",
    "    faces = face_clsfr.detectMultiScale(gray, 1.3, 5)\n",
    "    imageCopy = img.copy()\n",
    "    \n",
    "    for x,y,w,h in faces:\n",
    "        crop = img[y:y+h, x:x+w]\n",
    "        imageCrop = imageCopy[y:y+h, x:x+w]\n",
    "        resized = cv2.resize(imageCrop,(224,224))\n",
    "        normalized = resized.astype(\"float\")/255.0\n",
    "        image = img_to_array(normalized)\n",
    "        reshaped = np.expand_dims(image, axis=0)\n",
    "        result = model.predict(reshaped)\n",
    "        if result<0.5:\n",
    "            label  = 0\n",
    "        else:\n",
    "            label = 1\n",
    "        cv2.rectangle(img, (x,y),(x+w, y+h), color_dict[label], 2)\n",
    "        cv2.rectangle(img, (x,y-40),(x+w, y), color_dict[label], -1)\n",
    "        cv2.putText(img, labels_dict[label], (x,y-10), cv2.FONT_HERSHEY_SIMPLEX,0.8,(255,255,255), 2)\n",
    "        \n",
    "    cv2.imshow(\"LIVE\",img)\n",
    "    key = cv2.waitKey(1)\n",
    "    \n",
    "    if(key ==27):\n",
    "        break\n",
    "    cv2.destroyAllWindows()\n",
    "    source.release()\n",
    "    '''"
   ]
  },
  {
   "cell_type": "code",
   "execution_count": 4,
   "metadata": {},
   "outputs": [],
   "source": [
    "imagePath = \"test5.jpg\"\n",
    "im = cv2.imread(imagePath)\n",
    "imageCopy = im.copy()\n",
    "img = cv2.cvtColor(im, cv2.COLOR_BGR2GRAY)"
   ]
  },
  {
   "cell_type": "code",
   "execution_count": 5,
   "metadata": {},
   "outputs": [
    {
     "name": "stdout",
     "output_type": "stream",
     "text": [
      "(224, 224, 3)\n"
     ]
    }
   ],
   "source": [
    "faces = face_clsfr.detectMultiScale(img, 1.3, 5)\n",
    "for x,y,w,h in faces:\n",
    "    crop = img[y:y+h, x:x+w]\n",
    "    imageCrop = imageCopy[y:y+h, x:x+w]\n",
    "    resized = cv2.resize(imageCrop,(224,224),3)\n",
    "    normalized = resized.astype(\"float\")/255.0\n",
    "    image = img_to_array(normalized)\n",
    "    print(image.shape)\n",
    "    reshaped = np.reshape(image,(-1,224,224,3))\n",
    "    result = model.predict(reshaped)\n",
    "    result = model.predict(reshaped)\n",
    "    if result<0.5:\n",
    "        label  = 0\n",
    "    else:\n",
    "        label = 1\n",
    "    cv2.rectangle(im, (x,y),(x+w, y+h), color_dict[label], 2)\n",
    "    cv2.rectangle(im, (x,y-40),(x+w, y), color_dict[label], -1)\n",
    "    cv2.putText(im, labels_dict[label], (x,y-10), cv2.FONT_HERSHEY_SIMPLEX,0.8,(255,255,255), 2)\n",
    "    "
   ]
  },
  {
   "cell_type": "code",
   "execution_count": 6,
   "metadata": {},
   "outputs": [],
   "source": [
    "cv2.imshow(\"Faces Detected\", im)\n",
    "cv2.waitKey(0)\n",
    "cv2.destroyAllWindows()"
   ]
  },
  {
   "cell_type": "code",
   "execution_count": null,
   "metadata": {},
   "outputs": [],
   "source": []
  }
 ],
 "metadata": {
  "kernelspec": {
   "display_name": "Python 3",
   "language": "python",
   "name": "python3"
  },
  "language_info": {
   "codemirror_mode": {
    "name": "ipython",
    "version": 3
   },
   "file_extension": ".py",
   "mimetype": "text/x-python",
   "name": "python",
   "nbconvert_exporter": "python",
   "pygments_lexer": "ipython3",
   "version": "3.8.3"
  }
 },
 "nbformat": 4,
 "nbformat_minor": 4
}
